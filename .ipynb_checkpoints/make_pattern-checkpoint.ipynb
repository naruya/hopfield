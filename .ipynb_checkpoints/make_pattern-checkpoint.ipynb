{
 "cells": [
  {
   "cell_type": "code",
   "execution_count": 1,
   "metadata": {},
   "outputs": [],
   "source": [
    "import numpy as np\n",
    "import matplotlib.pyplot as plt"
   ]
  },
  {
   "cell_type": "code",
   "execution_count": 2,
   "metadata": {},
   "outputs": [
    {
     "data": {
      "image/png": "[encoded data removed]",
      "text/plain": [
       "<Figure size 864x144 with 6 Axes>"
      ]
     },
     "metadata": {},
     "output_type": "display_data"
    }
   ],
   "source": [
    "pattern = []\n",
    "\n",
    "pattern.append(\n",
    "    [[-1,1,1,1,-1], [1,-1,-1,-1,1], [1,-1,-1,-1,-1], [1,-1,-1,-1,-1], [-1,1,1,1,1]] # C\n",
    ")\n",
    "pattern.append(\n",
    "    [[-1,1,1,1,1], [-1,1,-1,-1,-1], [-1,1,1,1,-1], [-1,1,-1,-1,-1], [-1,1,-1,-1,-1]] # F\n",
    ")\n",
    "pattern.append(\n",
    "    [[-1,1,-1,-1,-1], [-1,1,-1,1,-1], [-1,1,-1,1,-1], [-1,1,1,1,1], [-1,-1,-1,1,-1]] # 4\n",
    ")\n",
    "pattern.append(\n",
    "    [[1,-1,-1,-1,1], [-1,1,-1,1,-1], [-1,-1,1,-1,-1], [-1,1,-1,1,-1], [1,-1,-1,-1,1]] # X\n",
    ")\n",
    "pattern.append(\n",
    "    [[1,-1,-1,-1,1], [1,-1,-1,-1,1], [-1,1,-1,1,-1], [-1,-1,1,-1,-1], [-1,-1,1,-1,-1]] # Y\n",
    ")\n",
    "pattern.append(\n",
    "    [[-1,1,1,1,-1], [-1,-1,-1,1,-1], [-1,-1,1,-1,-1], [-1,1,-1,-1,-1], [-1,1,1,1,-1]] # Z\n",
    ")\n",
    "\n",
    "pattern = np.array(pattern)\n",
    "\n",
    "plt.figure(figsize=(12,2))\n",
    "for i,pat in enumerate(pattern):\n",
    "    plt.subplot(1,6,i+1)\n",
    "    plt.imshow(pat)\n",
    "plt.show()"
   ]
  },
  {
   "cell_type": "code",
   "execution_count": 3,
   "metadata": {},
   "outputs": [],
   "source": [
    "np.save(\"pattern.npy\", pattern)"
   ]
  }
 ],
 "metadata": {
  "kernelspec": {
   "display_name": "Python 3",
   "language": "python",
   "name": "python3"
  },
  "language_info": {
   "codemirror_mode": {
    "name": "ipython",
    "version": 3
   },
   "file_extension": ".py",
   "mimetype": "text/x-python",
   "name": "python",
   "nbconvert_exporter": "python",
   "pygments_lexer": "ipython3",
   "version": "3.6.5"
  }
 },
 "nbformat": 4,
 "nbformat_minor": 2
}
